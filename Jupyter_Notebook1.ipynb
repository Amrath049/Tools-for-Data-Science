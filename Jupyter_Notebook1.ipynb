{
 "cells": [
  {
   "cell_type": "markdown",
   "id": "648b1ca3-d871-4846-b532-6e0ba756afbf",
   "metadata": {},
   "source": [
    "# Data Science Tools and Ecosystem"
   ]
  },
  {
   "cell_type": "markdown",
   "id": "3f1d9823-3251-4c14-9a7a-804a6a01c795",
   "metadata": {},
   "source": [
    "## In this notebook, Data Science Tools and Ecosystem are summarized.\n"
   ]
  },
  {
   "cell_type": "markdown",
   "id": "39b16e41-3690-4a90-a065-668dec8239cb",
   "metadata": {},
   "source": [
    "## Objectives:\n",
    "<ul>\n",
    "    <li>List of popular languages for Data Science</li>\n",
    "    <li>List of commonly used libraries used by Data Scientists </li>\n",
    "    <li>List of some Data Science Tools</li>\n",
    "    <li>Example for some arithmetic expressions</li>"
   ]
  },
  {
   "cell_type": "markdown",
   "id": "261771d4-baa0-48cb-992f-2e02859a7e9b",
   "metadata": {
    "tags": []
   },
   "source": [
    "### Some of the popular languages that Data Scientists use are:"
   ]
  },
  {
   "cell_type": "markdown",
   "id": "34af89cb-8823-4fdc-af0e-a4c3c925cbb6",
   "metadata": {},
   "source": [
    "1. Python\n",
    "2. R Language\n",
    "3. SQL\n",
    "4. Julia\n",
    "5. Scala"
   ]
  },
  {
   "cell_type": "markdown",
   "id": "a88ad4ab-d3a2-4beb-8fc3-806b536cf352",
   "metadata": {},
   "source": [
    "### Some of the commonly used libraries used by Data Scientists include:\n",
    "<ol>\n",
    "    <li>Numpy  </li>\n",
    "    <li> Keras </li>\n",
    "    <li>Pandas  </li>\n",
    "    <li>Pytorch  </li>\n",
    "    <li>SciPy  </li>\n",
    "    <li> Matplotlib </li>\n",
    "</ol>"
   ]
  },
  {
   "cell_type": "markdown",
   "id": "3acd0c0e-1c16-462b-8d97-4471e5d69d80",
   "metadata": {},
   "source": [
    "<table>\n",
    "    <tr>\n",
    "        <th>Data Science Tools</th>\n",
    "    </tr>\n",
    "    <td>Hadoop</td>\n",
    "    <tr>\n",
    "    </tr>\n",
    "    <td>MySQL</td>\n",
    "    <tr>\n",
    "    </tr>\n",
    "    <td>R studio</td>\n",
    "    <tr>\n",
    "    </tr>\n",
    "    <td>Jupyter Notebook</td>\n",
    "    <tr>\n",
    "    <tr>\n",
    "        <td>Apache Spark</td>\n",
    "    </tr>\n",
    "    \n",
    "    "
   ]
  },
  {
   "cell_type": "markdown",
   "id": "2d59b02e-d836-44eb-b54c-c123c813a277",
   "metadata": {},
   "source": [
    "### Below are a few examples of evaluating arithmetic expressions in Python\n"
   ]
  },
  {
   "cell_type": "code",
   "execution_count": 2,
   "id": "b134f9e7-bcbc-4a31-a93e-06058c1b987a",
   "metadata": {
    "tags": []
   },
   "outputs": [
    {
     "data": {
      "text/plain": [
       "17"
      ]
     },
     "execution_count": 2,
     "metadata": {},
     "output_type": "execute_result"
    }
   ],
   "source": [
    "# This a simple arithmetic expression to mutiply then add integers\n",
    "(3*4)+5"
   ]
  },
  {
   "cell_type": "code",
   "execution_count": 3,
   "id": "6f77e93b-5bd1-486d-8f24-4749d4af6a14",
   "metadata": {
    "tags": []
   },
   "outputs": [
    {
     "data": {
      "text/plain": [
       "3.3333333333333335"
      ]
     },
     "execution_count": 3,
     "metadata": {},
     "output_type": "execute_result"
    }
   ],
   "source": [
    "# This will convert 200 minutes to hours by diving by 60\n",
    "200/60"
   ]
  },
  {
   "cell_type": "markdown",
   "id": "f41b615e-1ef1-4bf2-b99b-ee7789cfaede",
   "metadata": {},
   "source": [
    "## Author\n",
    "Amrath Prasad"
   ]
  },
  {
   "cell_type": "code",
   "execution_count": null,
   "id": "c506e4a7-8594-48f2-aa2f-d2d0eb1c8fa2",
   "metadata": {},
   "outputs": [],
   "source": []
  }
 ],
 "metadata": {
  "kernelspec": {
   "display_name": "Python",
   "language": "python",
   "name": "conda-env-python-py"
  },
  "language_info": {
   "codemirror_mode": {
    "name": "ipython",
    "version": 3
   },
   "file_extension": ".py",
   "mimetype": "text/x-python",
   "name": "python",
   "nbconvert_exporter": "python",
   "pygments_lexer": "ipython3",
   "version": "3.7.12"
  }
 },
 "nbformat": 4,
 "nbformat_minor": 5
}
